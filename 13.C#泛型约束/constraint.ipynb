{
 "cells": [
  {
   "cell_type": "markdown",
   "id": "7d0bb2ff",
   "metadata": {},
   "source": [
    "1. 泛型约束  \n",
    "    - 让泛型的类型有一定限制  \n",
    "    - 泛型约束一共有 6 种：  \n",
    "        1. **值类型**（where T : struct）  \n",
    "        2. **引用类型**（where T : class）  \n",
    "        3. **存在无参公共构造函数**（where T : new()）  \n",
    "        4. **某个类本身或者其派生类**（where T : 某类）  \n",
    "        5. **实现某个接口**（where T : 某接口）  \n",
    "        6. **另一个泛型类型本身或者其派生类型**（where T : U）  "
   ]
  }
 ],
 "metadata": {
  "language_info": {
   "name": "python"
  }
 },
 "nbformat": 4,
 "nbformat_minor": 5
}
