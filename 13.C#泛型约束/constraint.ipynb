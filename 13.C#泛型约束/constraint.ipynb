{
 "cells": [
  {
   "cell_type": "markdown",
   "id": "4b6c57ce",
   "metadata": {},
   "source": [
    "1. 泛型约束  \n",
    "    - 让泛型的类型有一定限制  \n",
    "    - 泛型约束一共有 6 种：  \n",
    "        1. **值类型**（`where T : struct`）  \n",
    "        2. **引用类型**（`where T : class`）  \n",
    "        3. **存在无参公共构造函数**（`where T : new()`）  \n",
    "        4. **某个类本身或者其派生类**（`where T : 某类`）  \n",
    "        5. **实现某个接口**（`where T : 某接口`）  \n",
    "        6. **另一个泛型类型本身或者其派生类型**（`where T : U`）  "
   ]
  },
  {
   "cell_type": "code",
   "execution_count": 3,
   "metadata": {
    "language_info": {
     "name": "polyglot-notebook"
    },
    "polyglot_notebook": {
     "kernelName": "csharp"
    }
   },
   "outputs": [
    {
     "name": "stdout",
     "output_type": "stream",
     "text": [
      "42\r\n"
     ]
    }
   ],
   "source": [
    "// 值类型\n",
    "class TestClassWithMethod<T> where T:struct{\n",
    "    public T value;\n",
    "\n",
    "    public void TestFunc<K>()where K:struct{\n",
    "        Console.WriteLine(value);\n",
    "    }\n",
    "}\n",
    "\n",
    "TestClassWithMethod<int> testClass = new TestClassWithMethod<int>();\n",
    "testClass.value = 42;\n",
    "testClass.TestFunc<int>();"
   ]
  },
  {
   "cell_type": "code",
   "execution_count": 4,
   "metadata": {
    "language_info": {
     "name": "polyglot-notebook"
    },
    "polyglot_notebook": {
     "kernelName": "csharp"
    }
   },
   "outputs": [
    {
     "name": "stdout",
     "output_type": "stream",
     "text": [
      "Hello, Generics!\r\n"
     ]
    }
   ],
   "source": [
    "//引用类型\n",
    "class TestClassWithMethod<T> where T:class{\n",
    "    public T value;\n",
    "\n",
    "    public void TestFunc<K>()where K:class{\n",
    "        Console.WriteLine(value);\n",
    "    }\n",
    "}\n",
    "\n",
    "TestClassWithMethod<string> testClass = new TestClassWithMethod<string>();\n",
    "testClass.value = \"Hello, Generics!\";\n",
    "testClass.TestFunc<string>();\n",
    "\n",
    "//报错\n",
    "//TestClassWithMethod<int> testClass2 = new TestClassWithMethod<int>();\n",
    "//testClass2.value = 42;\n",
    "//testClass2.TestFunc<int>();"
   ]
  }
 ],
 "metadata": {
  "kernelspec": {
   "display_name": ".NET (C#)",
   "language": "C#",
   "name": ".net-csharp"
  },
  "language_info": {
   "name": "polyglot-notebook"
  },
  "polyglot_notebook": {
   "kernelInfo": {
    "defaultKernelName": "csharp",
    "items": [
     {
      "aliases": [],
      "name": "csharp"
     }
    ]
   }
  }
 },
 "nbformat": 4,
 "nbformat_minor": 5
}
