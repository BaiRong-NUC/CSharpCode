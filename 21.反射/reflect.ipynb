{
 "cells": [
  {
   "cell_type": "markdown",
   "id": "711a3001",
   "metadata": {
    "vscode": {
     "languageId": "polyglot-notebook"
    }
   },
   "source": [
    "1. 程序集: 经编译器编译得到的,供进一步编译执行的中间产物,在Windows系统中,它一般表现的后缀是.dll(库文件),或者exe文件\n",
    "2. 元数据: 用来描述数据的数据,有关程序以及类型的数据被称为元数据,他们保存在程序集中\n",
    "3. 反射: 程序在运行时可以查看其他程序集或者自己的元数据(可以得到自己程序集代码的何种信息)\n",
    "4. 反射的作用: 程序运行时得到所有的元数据; 程序运行中实例化对象, 程序运行时创建新的对象, 用这些对象执行任务(一个程序中使用另一个程序中的代码)"
   ]
  },
  {
   "cell_type": "code",
   "execution_count": 26,
   "id": "7525f181",
   "metadata": {},
   "outputs": [],
   "source": [
    "class ReflectExample\n",
    "{\n",
    "    private string message = \"Hello from ReflectExample!\";\n",
    "    public void DisplayMessage()\n",
    "    {\n",
    "        Console.WriteLine(\"Id: {0}, Message: {1}\", this.testId, this.message);\n",
    "    }\n",
    "\n",
    "    public int testId = 0;\n",
    "\n",
    "    public ReflectExample()\n",
    "    {\n",
    "        this.testId = 0;\n",
    "        this.message=\"Hello from ReflectExample!\";\n",
    "    }\n",
    "\n",
    "    public ReflectExample(int id)\n",
    "    {\n",
    "        this.testId = id;\n",
    "    }\n",
    "\n",
    "    public ReflectExample(int id, string message):this(id)\n",
    "    {\n",
    "        this.message = message;\n",
    "    }\n",
    "}"
   ]
  },
  {
   "cell_type": "code",
   "execution_count": 40,
   "id": "7735b412",
   "metadata": {},
   "outputs": [
    {
     "name": "stdout",
     "output_type": "stream",
     "text": [
      "System.Int32\n",
      "System.Int32\n",
      "System.Int32\n",
      "System.Private.CoreLib, Version=9.0.0.0, Culture=neutral, PublicKeyToken=7cec85d7bea7798e\n",
      "===========================================\n",
      "Void DisplayMessage()\n",
      "System.Type GetType()\n",
      "System.String ToString()\n",
      "Boolean Equals(System.Object)\n",
      "Int32 GetHashCode()\n",
      "Void .ctor()\n",
      "Void .ctor(Int32)\n",
      "Void .ctor(Int32, System.String)\n",
      "Int32 testId\n",
      "===========================================\n",
      "Void .ctor()\n",
      "Void .ctor(Int32)\n",
      "Void .ctor(Int32, System.String)\n",
      "Id: 0, Message: Hello from ReflectExample!\n",
      "Id: 42, Message: Hello, Reflection!\n",
      "===========================================\n",
      "Int32 testId\n",
      "Int32 testId\n",
      "42\n",
      "100\n",
      "===========================================\n",
      "Void DisplayMessage()\n",
      "System.Type GetType()\n",
      "System.String ToString()\n",
      "Boolean Equals(System.Object)\n",
      "Int32 GetHashCode()\n",
      "Void DisplayMessage()\n",
      "Id: 100, Message: Hello, Reflection!\n"
     ]
    }
   ],
   "source": [
    "using System.Reflection;\n",
    "// Type类(类的信息类) 它是反射功能的基础 它时访问元数据的主要方式. 使用type成员获取有关类型声明的信息\n",
    "int number = 10;\n",
    "Type type = number.GetType();\n",
    "Console.WriteLine(type);\n",
    "Console.WriteLine(typeof(int));\n",
    "Console.WriteLine(Type.GetType(\"System.Int32\")); //类名必须包含命名空间\n",
    "//得到类的程序集信息\n",
    "Console.WriteLine(type.Assembly);\n",
    "Console.WriteLine(\"===========================================\");\n",
    "\n",
    "//获取类的所有公共成员\n",
    "Type typeExample = typeof(ReflectExample);\n",
    "MemberInfo[] members = typeExample.GetMembers();\n",
    "foreach (MemberInfo member in members)\n",
    "{\n",
    "    Console.WriteLine(member);\n",
    "}\n",
    "\n",
    "Console.WriteLine(\"===========================================\");\n",
    "//获取类的公共构造函数并调用\n",
    "ConstructorInfo[] constructors = typeExample.GetConstructors();\n",
    "foreach (ConstructorInfo constructor in constructors)\n",
    "{\n",
    "    Console.WriteLine(constructor);\n",
    "}\n",
    "//获取其中一个构造函数并执行,得到构造函数需要传入Type数组, 数组中的内容按顺序是参数类型\n",
    "ConstructorInfo constructor = typeExample.GetConstructor(new Type[0]);\n",
    "ReflectExample example = constructor.Invoke(null) as ReflectExample; //调用无参构造函数,没有参数写null\n",
    "example.DisplayMessage();\n",
    "\n",
    "//获取有参构造函数\n",
    "constructor = typeExample.GetConstructor(new Type[] { typeof(int), typeof(string) });\n",
    "example = constructor.Invoke(new object[] { 42, \"Hello, Reflection!\" }) as ReflectExample; //调用有参构造函数\n",
    "example.DisplayMessage();\n",
    "\n",
    "Console.WriteLine(\"===========================================\");\n",
    "\n",
    "//获取类的所有公共成员变量\n",
    "FieldInfo[] fields = typeExample.GetFields();\n",
    "foreach (FieldInfo field in fields)\n",
    "{\n",
    "    Console.WriteLine(field);\n",
    "}\n",
    "\n",
    "//获取指定名称的成员变量\n",
    "FieldInfo fieldInfo = typeExample.GetField(\"testId\");\n",
    "if (fieldInfo != null)\n",
    "{\n",
    "    Console.WriteLine(fieldInfo);\n",
    "} \n",
    "\n",
    "//通过反射获取和设置对象的值\n",
    "Console.WriteLine(fieldInfo.GetValue(example));\n",
    "fieldInfo.SetValue(example, 100);\n",
    "Console.WriteLine(fieldInfo.GetValue(example));\n",
    "\n",
    "Console.WriteLine(\"===========================================\");\n",
    "\n",
    "//获取类的所有公共方法\n",
    "MethodInfo[] methods = typeExample.GetMethods();\n",
    "foreach (MethodInfo method in methods)\n",
    "{\n",
    "    Console.WriteLine(method);\n",
    "}\n",
    "\n",
    "//获取类的特定的方法,重载函数需要第二个参数传入Type类型,没有重载则直接使用这个函数即可\n",
    "MethodInfo specificMethod = typeExample.GetMethod(\"DisplayMessage\", new Type[0]);\n",
    "if (specificMethod != null)\n",
    "{\n",
    "    Console.WriteLine(specificMethod);\n",
    "}\n",
    "\n",
    "//调用特定的方法,传入类,和需要的参数, 参数传递为new object[] { }\n",
    "//静态方法Invoke时第一个参数为null,实例方法则传入实例对象\n",
    "specificMethod.Invoke(example, null); //无参数调用"
   ]
  }
 ],
 "metadata": {
  "kernelspec": {
   "display_name": ".NET (C#)",
   "language": "C#",
   "name": ".net-csharp"
  },
  "language_info": {
   "name": "polyglot-notebook"
  },
  "polyglot_notebook": {
   "kernelInfo": {
    "defaultKernelName": "csharp",
    "items": [
     {
      "aliases": [],
      "name": "csharp"
     }
    ]
   }
  }
 },
 "nbformat": 4,
 "nbformat_minor": 5
}
